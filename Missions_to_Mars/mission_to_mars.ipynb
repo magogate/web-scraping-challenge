{
 "cells": [
  {
   "cell_type": "code",
   "execution_count": 36,
   "metadata": {},
   "outputs": [],
   "source": [
    "import requests\n",
    "import bs4\n",
    "import re"
   ]
  },
  {
   "cell_type": "code",
   "execution_count": 37,
   "metadata": {},
   "outputs": [],
   "source": [
    "baseUrl = \"https://mars.nasa.gov/news/?page=0&per_page=40&order=publish_date+desc%2Ccreated_at+desc&search=&category=19%2C165%2C184%2C204&blank_scope=Latest\""
   ]
  },
  {
   "cell_type": "code",
   "execution_count": 38,
   "metadata": {},
   "outputs": [],
   "source": [
    "response = requests.get(baseUrl)    \n",
    "soup = bs4.BeautifulSoup(response.text, \"html.parser\")\n",
    "# print(response.text)"
   ]
  },
  {
   "cell_type": "code",
   "execution_count": 39,
   "metadata": {},
   "outputs": [],
   "source": [
    "newsLists = soup.find_all(\"div\", class_=\"content_title\", limit=1)"
   ]
  },
  {
   "cell_type": "code",
   "execution_count": 40,
   "metadata": {},
   "outputs": [],
   "source": [
    "from splinter import Browser"
   ]
  },
  {
   "cell_type": "code",
   "execution_count": 41,
   "metadata": {},
   "outputs": [],
   "source": [
    "#if u dont define environment variable in path, just give full exe path at below line.\n",
    "# D:\\Software\\chromedriver_win32\n",
    "# executable_path = {\"executable_path\":\"D:\\\\Software\\\\chromedriver_win32\\\\chromedriver.exe\"}\n",
    "executable_path = {\"executable_path\":\"chromedriver.exe\"}"
   ]
  },
  {
   "cell_type": "code",
   "execution_count": 42,
   "metadata": {},
   "outputs": [],
   "source": [
    "browser = Browser(\"chrome\",**executable_path, headless=False)"
   ]
  },
  {
   "cell_type": "code",
   "execution_count": 43,
   "metadata": {},
   "outputs": [],
   "source": [
    "browser.visit(baseUrl)"
   ]
  },
  {
   "cell_type": "code",
   "execution_count": 44,
   "metadata": {},
   "outputs": [],
   "source": [
    "# response = requests.get(browser.url)    \n",
    "soup = bs4.BeautifulSoup(browser.html, \"html.parser\")\n",
    "# print(response.text)"
   ]
  },
  {
   "cell_type": "code",
   "execution_count": 45,
   "metadata": {},
   "outputs": [],
   "source": [
    "newsLists = soup.find_all(\"div\", class_=\"list_text\", limit=1)\n",
    "for news in newsLists:\n",
    "#     print(news)\n",
    "    print(news.find(\"div\", class_=\"content_title\").text)\n",
    "    print(news.find(\"div\", class_=\"article_teaser_body\").text)\n",
    "    news_title = news.find(\"div\", class_=\"content_title\").a.text\n",
    "    new_p = news.find(\"div\", class_=\"article_teaser_body\").text"
   ]
  },
  {
   "cell_type": "code",
   "execution_count": 46,
   "metadata": {},
   "outputs": [],
   "source": [
    "# https://splinter.readthedocs.io/en/0.1/tutorial.html\n",
    "browser.quit()"
   ]
  },
  {
   "cell_type": "code",
   "execution_count": 50,
   "metadata": {},
   "outputs": [],
   "source": [
    "browser = Browser(\"chrome\",**executable_path, headless=False)"
   ]
  },
  {
   "cell_type": "code",
   "execution_count": 51,
   "metadata": {},
   "outputs": [],
   "source": [
    "baseUrl = \"https://www.jpl.nasa.gov/spaceimages/?search=&category=Mars\""
   ]
  },
  {
   "cell_type": "code",
   "execution_count": 52,
   "metadata": {},
   "outputs": [],
   "source": [
    "browser.visit(baseUrl)"
   ]
  },
  {
   "cell_type": "code",
   "execution_count": 53,
   "metadata": {},
   "outputs": [],
   "source": [
    "soup = bs4.BeautifulSoup(browser.html, \"html.parser\")"
   ]
  },
  {
   "cell_type": "code",
   "execution_count": 64,
   "metadata": {},
   "outputs": [
    {
     "name": "stdout",
     "output_type": "stream",
     "text": [
      "https://www.jpl.nasa.gov//spaceimages/images/wallpaper/PIA23563-640x350.jpg\n"
     ]
    }
   ],
   "source": [
    "marsImages = soup.find_all(\"ul\", class_=\"articles\", limit=1)\n",
    "for image in marsImages:\n",
    "#     print(image.find(\"div\", class_=\"img\").img[\"src\"])\n",
    "    featured_image_url = \"https://www.jpl.nasa.gov/\" + image.find(\"div\", class_=\"img\").img[\"src\"]\n",
    "    print(featured_image_url)"
   ]
  },
  {
   "cell_type": "code",
   "execution_count": 65,
   "metadata": {},
   "outputs": [],
   "source": [
    "browser.quit()"
   ]
  },
  {
   "cell_type": "code",
   "execution_count": 262,
   "metadata": {},
   "outputs": [],
   "source": [
    "browser = Browser(\"chrome\",**executable_path, headless=False)"
   ]
  },
  {
   "cell_type": "code",
   "execution_count": 263,
   "metadata": {},
   "outputs": [],
   "source": [
    "baseUrl = \"https://twitter.com/marswxreport?lang=en\""
   ]
  },
  {
   "cell_type": "code",
   "execution_count": 264,
   "metadata": {},
   "outputs": [],
   "source": [
    "browser.visit(baseUrl)"
   ]
  },
  {
   "cell_type": "code",
   "execution_count": 265,
   "metadata": {},
   "outputs": [],
   "source": [
    "soup = bs4.BeautifulSoup(browser.html, \"html.parser\")"
   ]
  },
  {
   "cell_type": "code",
   "execution_count": 268,
   "metadata": {},
   "outputs": [
    {
     "name": "stdout",
     "output_type": "stream",
     "text": [
      "InSight sol 348 (2019-11-19) low -102.5ºC (-152.5ºF) high -23.2ºC (-9.8ºF)\n",
      "winds from the SSE at 5.1 m/s (11.5 mph) gusting to 18.9 m/s (42.3 mph)\n",
      "pressure at 6.80 hP\n"
     ]
    }
   ],
   "source": [
    "marsTwitts = soup.find_all(\"p\", class_=\"TweetTextSize TweetTextSize--normal js-tweet-text tweet-text\", limit=1)\n",
    "for twitt in marsTwitts:\n",
    "    print(twitt.text.replace(\"apic.twitter.com/iZwojPj9au\",\"\"))\n",
    "    mars_weather = marsTwitts[0].text.replace(\"apic.twitter.com/iZwojPj9au\",\"\")"
   ]
  },
  {
   "cell_type": "code",
   "execution_count": 269,
   "metadata": {},
   "outputs": [],
   "source": [
    "browser.quit()"
   ]
  },
  {
   "cell_type": "code",
   "execution_count": 138,
   "metadata": {},
   "outputs": [],
   "source": [
    "browser = Browser(\"chrome\",**executable_path, headless=False)"
   ]
  },
  {
   "cell_type": "code",
   "execution_count": 139,
   "metadata": {},
   "outputs": [],
   "source": [
    "baseUrl = \"https://space-facts.com/mars/\""
   ]
  },
  {
   "cell_type": "code",
   "execution_count": 140,
   "metadata": {},
   "outputs": [],
   "source": [
    "browser.visit(baseUrl)"
   ]
  },
  {
   "cell_type": "code",
   "execution_count": 145,
   "metadata": {},
   "outputs": [],
   "source": [
    "soup = bs4.BeautifulSoup(browser.html, \"html.parser\")"
   ]
  },
  {
   "cell_type": "code",
   "execution_count": 161,
   "metadata": {},
   "outputs": [],
   "source": [
    "marsInfo = {}\n",
    "\n",
    "tboday = soup.find_all(\"tbody\", limit=1)\n",
    "for row in tboday:\n",
    "    marsInfo[row.find(\"tr\", class_=\"row-1\").find(\"td\", class_=\"column-1\").strong.text] = row.find(\"tr\", class_=\"row-1\").find(\"td\", class_=\"column-2\").text\n",
    "    marsInfo[row.find(\"tr\", class_=\"row-2\").find(\"td\", class_=\"column-1\").strong.text] = row.find(\"tr\", class_=\"row-2\").find(\"td\", class_=\"column-2\").text\n",
    "    marsInfo[row.find(\"tr\", class_=\"row-3\").find(\"td\", class_=\"column-1\").strong.text] = row.find(\"tr\", class_=\"row-3\").find(\"td\", class_=\"column-2\").text\n",
    "    marsInfo[row.find(\"tr\", class_=\"row-4\").find(\"td\", class_=\"column-1\").strong.text] = row.find(\"tr\", class_=\"row-4\").find(\"td\", class_=\"column-2\").text\n",
    "    marsInfo[row.find(\"tr\", class_=\"row-5\").find(\"td\", class_=\"column-1\").strong.text] = row.find(\"tr\", class_=\"row-5\").find(\"td\", class_=\"column-2\").text\n",
    "    marsInfo[row.find(\"tr\", class_=\"row-6\").find(\"td\", class_=\"column-1\").strong.text] = row.find(\"tr\", class_=\"row-6\").find(\"td\", class_=\"column-2\").text\n",
    "    marsInfo[row.find(\"tr\", class_=\"row-7\").find(\"td\", class_=\"column-1\").strong.text] = row.find(\"tr\", class_=\"row-7\").find(\"td\", class_=\"column-2\").text\n",
    "    marsInfo[row.find(\"tr\", class_=\"row-8\").find(\"td\", class_=\"column-1\").strong.text] = row.find(\"tr\", class_=\"row-8\").find(\"td\", class_=\"column-2\").text\n",
    "    marsInfo[row.find(\"tr\", class_=\"row-8\").find(\"td\", class_=\"column-1\").strong.text] = row.find(\"tr\", class_=\"row-9\").find(\"td\", class_=\"column-2\").text\n",
    "    "
   ]
  },
  {
   "cell_type": "code",
   "execution_count": 177,
   "metadata": {},
   "outputs": [],
   "source": [
    "browser.quit()"
   ]
  },
  {
   "cell_type": "code",
   "execution_count": 167,
   "metadata": {},
   "outputs": [
    {
     "data": {
      "text/plain": [
       "{'Equatorial Diameter:': '6,792 km',\n",
       " 'Polar Diameter:': '6,752 km',\n",
       " 'Mass:': '6.39 × 10^23 kg (0.11 Earths)',\n",
       " 'Moons:': '2 (Phobos & Deimos)',\n",
       " 'Orbit Distance:': '227,943,824 km (1.38 AU)',\n",
       " 'Orbit Period:': '687 days (1.9 years)',\n",
       " 'Surface Temperature: ': '-87 to -5 °C',\n",
       " 'First Record:': 'Egyptian astronomers'}"
      ]
     },
     "execution_count": 167,
     "metadata": {},
     "output_type": "execute_result"
    }
   ],
   "source": [
    "marsInfo"
   ]
  },
  {
   "cell_type": "code",
   "execution_count": 163,
   "metadata": {},
   "outputs": [],
   "source": [
    "import pandas as pd"
   ]
  },
  {
   "cell_type": "code",
   "execution_count": 172,
   "metadata": {},
   "outputs": [],
   "source": [
    "# https://thispointer.com/python-pandas-how-to-create-dataframe-from-dictionary/\n",
    "marsDF = pd.DataFrame(marsInfo, index=['1']).T"
   ]
  },
  {
   "cell_type": "code",
   "execution_count": 173,
   "metadata": {},
   "outputs": [
    {
     "data": {
      "text/html": [
       "<div>\n",
       "<style scoped>\n",
       "    .dataframe tbody tr th:only-of-type {\n",
       "        vertical-align: middle;\n",
       "    }\n",
       "\n",
       "    .dataframe tbody tr th {\n",
       "        vertical-align: top;\n",
       "    }\n",
       "\n",
       "    .dataframe thead th {\n",
       "        text-align: right;\n",
       "    }\n",
       "</style>\n",
       "<table border=\"1\" class=\"dataframe\">\n",
       "  <thead>\n",
       "    <tr style=\"text-align: right;\">\n",
       "      <th></th>\n",
       "      <th>1</th>\n",
       "    </tr>\n",
       "  </thead>\n",
       "  <tbody>\n",
       "    <tr>\n",
       "      <th>Equatorial Diameter:</th>\n",
       "      <td>6,792 km</td>\n",
       "    </tr>\n",
       "    <tr>\n",
       "      <th>Polar Diameter:</th>\n",
       "      <td>6,752 km</td>\n",
       "    </tr>\n",
       "    <tr>\n",
       "      <th>Mass:</th>\n",
       "      <td>6.39 × 10^23 kg (0.11 Earths)</td>\n",
       "    </tr>\n",
       "    <tr>\n",
       "      <th>Moons:</th>\n",
       "      <td>2 (Phobos &amp; Deimos)</td>\n",
       "    </tr>\n",
       "    <tr>\n",
       "      <th>Orbit Distance:</th>\n",
       "      <td>227,943,824 km (1.38 AU)</td>\n",
       "    </tr>\n",
       "    <tr>\n",
       "      <th>Orbit Period:</th>\n",
       "      <td>687 days (1.9 years)</td>\n",
       "    </tr>\n",
       "    <tr>\n",
       "      <th>Surface Temperature:</th>\n",
       "      <td>-87 to -5 °C</td>\n",
       "    </tr>\n",
       "    <tr>\n",
       "      <th>First Record:</th>\n",
       "      <td>Egyptian astronomers</td>\n",
       "    </tr>\n",
       "  </tbody>\n",
       "</table>\n",
       "</div>"
      ],
      "text/plain": [
       "                                                   1\n",
       "Equatorial Diameter:                        6,792 km\n",
       "Polar Diameter:                             6,752 km\n",
       "Mass:                  6.39 × 10^23 kg (0.11 Earths)\n",
       "Moons:                           2 (Phobos & Deimos)\n",
       "Orbit Distance:             227,943,824 km (1.38 AU)\n",
       "Orbit Period:                   687 days (1.9 years)\n",
       "Surface Temperature:                    -87 to -5 °C\n",
       "First Record:                   Egyptian astronomers"
      ]
     },
     "execution_count": 173,
     "metadata": {},
     "output_type": "execute_result"
    }
   ],
   "source": [
    "marsDF"
   ]
  },
  {
   "cell_type": "code",
   "execution_count": 175,
   "metadata": {},
   "outputs": [],
   "source": [
    "# https://pythonexamples.org/pandas-render-dataframe-as-html-table/\n",
    "html = marsDF.to_html()"
   ]
  },
  {
   "cell_type": "code",
   "execution_count": 176,
   "metadata": {},
   "outputs": [
    {
     "name": "stdout",
     "output_type": "stream",
     "text": [
      "<table border=\"1\" class=\"dataframe\">\n",
      "  <thead>\n",
      "    <tr style=\"text-align: right;\">\n",
      "      <th></th>\n",
      "      <th>1</th>\n",
      "    </tr>\n",
      "  </thead>\n",
      "  <tbody>\n",
      "    <tr>\n",
      "      <th>Equatorial Diameter:</th>\n",
      "      <td>6,792 km</td>\n",
      "    </tr>\n",
      "    <tr>\n",
      "      <th>Polar Diameter:</th>\n",
      "      <td>6,752 km</td>\n",
      "    </tr>\n",
      "    <tr>\n",
      "      <th>Mass:</th>\n",
      "      <td>6.39 × 10^23 kg (0.11 Earths)</td>\n",
      "    </tr>\n",
      "    <tr>\n",
      "      <th>Moons:</th>\n",
      "      <td>2 (Phobos &amp; Deimos)</td>\n",
      "    </tr>\n",
      "    <tr>\n",
      "      <th>Orbit Distance:</th>\n",
      "      <td>227,943,824 km (1.38 AU)</td>\n",
      "    </tr>\n",
      "    <tr>\n",
      "      <th>Orbit Period:</th>\n",
      "      <td>687 days (1.9 years)</td>\n",
      "    </tr>\n",
      "    <tr>\n",
      "      <th>Surface Temperature:</th>\n",
      "      <td>-87 to -5 °C</td>\n",
      "    </tr>\n",
      "    <tr>\n",
      "      <th>First Record:</th>\n",
      "      <td>Egyptian astronomers</td>\n",
      "    </tr>\n",
      "  </tbody>\n",
      "</table>\n"
     ]
    }
   ],
   "source": [
    "print(html)"
   ]
  },
  {
   "cell_type": "code",
   "execution_count": 237,
   "metadata": {},
   "outputs": [],
   "source": [
    "hemisphere_image_urls = []"
   ]
  },
  {
   "cell_type": "code",
   "execution_count": 238,
   "metadata": {},
   "outputs": [],
   "source": [
    "browser = Browser(\"chrome\",**executable_path, headless=False)"
   ]
  },
  {
   "cell_type": "code",
   "execution_count": 239,
   "metadata": {},
   "outputs": [],
   "source": [
    "baseUrl = \"https://astrogeology.usgs.gov/search/results?q=hemisphere+enhanced&k1=target&v1=Mars\""
   ]
  },
  {
   "cell_type": "code",
   "execution_count": 240,
   "metadata": {},
   "outputs": [],
   "source": [
    "browser.visit(baseUrl)"
   ]
  },
  {
   "cell_type": "code",
   "execution_count": 241,
   "metadata": {},
   "outputs": [],
   "source": [
    "browser.click_link_by_partial_text('Cerberus')"
   ]
  },
  {
   "cell_type": "code",
   "execution_count": 242,
   "metadata": {},
   "outputs": [],
   "source": [
    "soup = bs4.BeautifulSoup(browser.html, \"html.parser\")"
   ]
  },
  {
   "cell_type": "code",
   "execution_count": 243,
   "metadata": {},
   "outputs": [
    {
     "name": "stdout",
     "output_type": "stream",
     "text": [
      "http://astropedia.astrogeology.usgs.gov/download/Mars/Viking/cerberus_enhanced.tif/full.jpg\n",
      "http://astropedia.astrogeology.usgs.gov/download/Mars/Viking/cerberus_enhanced.tif\n"
     ]
    }
   ],
   "source": [
    "mars_dict = {}\n",
    "cnt = 0\n",
    "mars_dict[\"title\"] = \"Cerberus Hemisphere\"\n",
    "images = soup.find_all(\"div\", class_=\"downloads\")\n",
    "for image in images:\n",
    "    for i in image.find_all(\"li\"):\n",
    "        cnt += 1\n",
    "        print(i.a[\"href\"])\n",
    "        mars_dict[\"img_url\" + str(cnt)] = i.a[\"href\"]"
   ]
  },
  {
   "cell_type": "code",
   "execution_count": 244,
   "metadata": {},
   "outputs": [],
   "source": [
    "hemisphere_image_urls.append(mars_dict)"
   ]
  },
  {
   "cell_type": "code",
   "execution_count": 245,
   "metadata": {},
   "outputs": [],
   "source": [
    "browser.visit(baseUrl)"
   ]
  },
  {
   "cell_type": "code",
   "execution_count": 246,
   "metadata": {},
   "outputs": [],
   "source": [
    "browser.click_link_by_partial_text('Schiaparelli') "
   ]
  },
  {
   "cell_type": "code",
   "execution_count": 247,
   "metadata": {},
   "outputs": [],
   "source": [
    "soup = bs4.BeautifulSoup(browser.html, \"html.parser\")"
   ]
  },
  {
   "cell_type": "code",
   "execution_count": 248,
   "metadata": {},
   "outputs": [
    {
     "name": "stdout",
     "output_type": "stream",
     "text": [
      "http://astropedia.astrogeology.usgs.gov/download/Mars/Viking/schiaparelli_enhanced.tif/full.jpg\n",
      "http://astropedia.astrogeology.usgs.gov/download/Mars/Viking/schiaparelli_enhanced.tif\n"
     ]
    }
   ],
   "source": [
    "mars_dict = {}\n",
    "cnt = 0\n",
    "mars_dict[\"title\"] = \"Schiaparelli Hemisphere\"\n",
    "images = soup.find_all(\"div\", class_=\"downloads\")\n",
    "for image in images:\n",
    "    for i in image.find_all(\"li\"):\n",
    "        cnt += 1\n",
    "        print(i.a[\"href\"])\n",
    "        mars_dict[\"img_url\" + str(cnt)] = i.a[\"href\"]"
   ]
  },
  {
   "cell_type": "code",
   "execution_count": 249,
   "metadata": {},
   "outputs": [],
   "source": [
    "hemisphere_image_urls.append(mars_dict)"
   ]
  },
  {
   "cell_type": "code",
   "execution_count": 250,
   "metadata": {},
   "outputs": [],
   "source": [
    "browser.visit(baseUrl)"
   ]
  },
  {
   "cell_type": "code",
   "execution_count": 251,
   "metadata": {},
   "outputs": [],
   "source": [
    "browser.click_link_by_partial_text('Syrtis')  "
   ]
  },
  {
   "cell_type": "code",
   "execution_count": 252,
   "metadata": {},
   "outputs": [],
   "source": [
    "soup = bs4.BeautifulSoup(browser.html, \"html.parser\")"
   ]
  },
  {
   "cell_type": "code",
   "execution_count": 253,
   "metadata": {},
   "outputs": [
    {
     "name": "stdout",
     "output_type": "stream",
     "text": [
      "http://astropedia.astrogeology.usgs.gov/download/Mars/Viking/syrtis_major_enhanced.tif/full.jpg\n",
      "http://astropedia.astrogeology.usgs.gov/download/Mars/Viking/syrtis_major_enhanced.tif\n"
     ]
    }
   ],
   "source": [
    "mars_dict = {}\n",
    "cnt = 0\n",
    "mars_dict[\"title\"] = \"Syrtis Major Hemisphere\"\n",
    "images = soup.find_all(\"div\", class_=\"downloads\")\n",
    "for image in images:\n",
    "    for i in image.find_all(\"li\"):\n",
    "        cnt += 1\n",
    "        print(i.a[\"href\"])\n",
    "        mars_dict[\"img_url\" + str(cnt)] = i.a[\"href\"]"
   ]
  },
  {
   "cell_type": "code",
   "execution_count": 254,
   "metadata": {},
   "outputs": [],
   "source": [
    "hemisphere_image_urls.append(mars_dict)"
   ]
  },
  {
   "cell_type": "code",
   "execution_count": 255,
   "metadata": {},
   "outputs": [],
   "source": [
    "browser.visit(baseUrl)"
   ]
  },
  {
   "cell_type": "code",
   "execution_count": 256,
   "metadata": {},
   "outputs": [],
   "source": [
    "browser.click_link_by_partial_text('Valles')  "
   ]
  },
  {
   "cell_type": "code",
   "execution_count": 257,
   "metadata": {},
   "outputs": [],
   "source": [
    "soup = bs4.BeautifulSoup(browser.html, \"html.parser\")"
   ]
  },
  {
   "cell_type": "code",
   "execution_count": 258,
   "metadata": {},
   "outputs": [
    {
     "name": "stdout",
     "output_type": "stream",
     "text": [
      "http://astropedia.astrogeology.usgs.gov/download/Mars/Viking/valles_marineris_enhanced.tif/full.jpg\n",
      "http://astropedia.astrogeology.usgs.gov/download/Mars/Viking/valles_marineris_enhanced.tif\n"
     ]
    }
   ],
   "source": [
    "mars_dict = {}\n",
    "cnt = 0\n",
    "mars_dict[\"title\"] = \"Valles Marineris Hemisphere\"\n",
    "images = soup.find_all(\"div\", class_=\"downloads\")\n",
    "for image in images:\n",
    "    for i in image.find_all(\"li\"):\n",
    "        cnt += 1\n",
    "        print(i.a[\"href\"])\n",
    "        mars_dict[\"img_url\" + str(cnt)] = i.a[\"href\"]"
   ]
  },
  {
   "cell_type": "code",
   "execution_count": 259,
   "metadata": {},
   "outputs": [],
   "source": [
    "hemisphere_image_urls.append(mars_dict)"
   ]
  },
  {
   "cell_type": "code",
   "execution_count": 260,
   "metadata": {},
   "outputs": [
    {
     "data": {
      "text/plain": [
       "[{'title': 'Cerberus Hemisphere',\n",
       "  'img_url1': 'http://astropedia.astrogeology.usgs.gov/download/Mars/Viking/cerberus_enhanced.tif/full.jpg',\n",
       "  'img_url2': 'http://astropedia.astrogeology.usgs.gov/download/Mars/Viking/cerberus_enhanced.tif'},\n",
       " {'title': 'Schiaparelli Hemisphere',\n",
       "  'img_url1': 'http://astropedia.astrogeology.usgs.gov/download/Mars/Viking/schiaparelli_enhanced.tif/full.jpg',\n",
       "  'img_url2': 'http://astropedia.astrogeology.usgs.gov/download/Mars/Viking/schiaparelli_enhanced.tif'},\n",
       " {'title': 'Syrtis Major Hemisphere',\n",
       "  'img_url1': 'http://astropedia.astrogeology.usgs.gov/download/Mars/Viking/syrtis_major_enhanced.tif/full.jpg',\n",
       "  'img_url2': 'http://astropedia.astrogeology.usgs.gov/download/Mars/Viking/syrtis_major_enhanced.tif'},\n",
       " {'title': 'Valles Marineris Hemisphere',\n",
       "  'img_url1': 'http://astropedia.astrogeology.usgs.gov/download/Mars/Viking/valles_marineris_enhanced.tif/full.jpg',\n",
       "  'img_url2': 'http://astropedia.astrogeology.usgs.gov/download/Mars/Viking/valles_marineris_enhanced.tif'}]"
      ]
     },
     "execution_count": 260,
     "metadata": {},
     "output_type": "execute_result"
    }
   ],
   "source": [
    "hemisphere_image_urls"
   ]
  },
  {
   "cell_type": "code",
   "execution_count": 261,
   "metadata": {},
   "outputs": [],
   "source": [
    "browser.quit()"
   ]
  },
  {
   "cell_type": "code",
   "execution_count": null,
   "metadata": {},
   "outputs": [],
   "source": []
  }
 ],
 "metadata": {
  "kernelspec": {
   "display_name": "Python 3",
   "language": "python",
   "name": "python3"
  },
  "language_info": {
   "codemirror_mode": {
    "name": "ipython",
    "version": 3
   },
   "file_extension": ".py",
   "mimetype": "text/x-python",
   "name": "python",
   "nbconvert_exporter": "python",
   "pygments_lexer": "ipython3",
   "version": "3.7.3"
  }
 },
 "nbformat": 4,
 "nbformat_minor": 2
}
